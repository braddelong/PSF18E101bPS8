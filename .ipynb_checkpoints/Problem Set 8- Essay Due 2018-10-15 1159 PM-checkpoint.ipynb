{
 "cells": [
  {
   "cell_type": "markdown",
   "metadata": {},
   "source": [
    "# Problem Set 8: Essay Due 2018-10-08 11:59 PM\n",
    "\n",
    "Take any one of the following four \"Optional Reading\" articles:\n",
    "\n",
    "1. **Paul Romer** (1989): _[Endogenous Technological Change](http://www.nber.org/papers/w3210)_: \"Growth in this model is driven by technological change that arises from intentional investment decisions made by profit maximizing agents. The distinguishing feature of the technology as an input is that it is neither a conventional good nor a public good; it is a nonrival, partially excludable good...\n",
    "\n",
    "2. **Paul Romer** (2015): _[Economic Growth](https://paulromer.net/economic-growth/)_: \"Every generation has perceived the limits to growth that finite resources and undesirable side effects would pose if no new recipes or ideas were discovered. And every generation has underestimated the potential for finding new recipes and ideas...\n",
    "\n",
    "3. **William D. Nordhaus** (1996): _[Do Real-Output and Real-Wage Measures Capture Reality? The History of Lighting Suggests Not](http://www.nber.org/chapters/c6064.pdf)_: \"During periods of major technological change, the construction of accurate price indexes that capture the impact of new technologies on living standards is beyond the practical capability of official statistical agencies. The essential difficulty arises for the obvious but usually overlooked reason that most of the goods we consume today were not produced a century ago... \n",
    "\n",
    "4. **William D. Nordhaus** (2007): _[A Review of the Stern Review on the Economics of Climate Change](http://piketty.pse.ens.fr/files/Nordhaus2007b.pdf)_: \"How much and how fast should we react to the threat of global warming? The _Stern Review_ argues that the damages from climate change are large, and that nations should undertake sharp and immediate reductions in greenhouse gas emissions...\n",
    "\n",
    "In the first, Paul Romer attempts to bring the process by which humans create and make use of productive economic knowledge into the orbit of macroeconomic theory. In the second, Paul Romer outlines what he regards as (some of) the things we have learned by bringing this process into the orbit of macroeconomics. In the third, Bill Nordhaus makes a powerful argument that \"standard\" estimates of economic growth vastly understate the true nature and magnitude of the advances in productivity and standards of living we have seen over the past two centuries. And in the fourth, Bill Nordhaus sharply disagrees with Nick Stern who, in his _Stern Review_ <https://tinyurl.com/20181009a-delong> argues equally sharply that major and costly action to control global warming should have been started decades ago.\n",
    "\n",
    "----\n",
    "\n",
    "For the article you have chosen, write a 750 word or so essay (less than 500 words will receive a grouchy reading; more than 1000 words will receive a grouchy reading) explaining how you do or do not find the article convincing. Do you think the author has it right? If so, why? If not, why not? And think of and outline some thins you might be able to learn about that would have the potential of changing your mind.\n",
    "\n",
    "----\n",
    "\n",
    "Submit your article via bcourses in the appropriate text-entry area at: <https://bcourses.berkeley.edu/courses/1471771/assignments/7929801>\n",
    "\n",
    "----\n",
    "\n",
    "This File: <https://github.com/braddelong/PSF18E101bPS8/blob/master/Problem%20Set%208-%20Essay%20Due%202018-10-15%201159%20PM.ipynb>\n",
    "\n",
    "----\n",
    "\n",
    "**Notes**:\n",
    "\n",
    "The first attempts to bring the process by which humans create and make use of productive economic knowledge into the orbit of macroeconomic theory. In so doing, Paul Romer responds to a criticism of economics made 146 years earlier by then-young whippersnapper Friedrich Engels:\n",
    "\n",
    ">**Friedrich Engels** (1843): _[Outlines of a Critique of Political Economy](https://www.marxists.org/archive/marx/works/1844/df-jahrbucher/outlines.htm)_: \"According to the economists, the production costs of a commodity consist of three elements: the rent... profit and the wages.... A third factor which the economist does not think about–I mean the mental element of invention.... What has the economist to do with inventiveness? Have not all inventions fallen into his lap without any effort on his part? Has one of them cost him anything? Why then should he bother about them in the calculation of production costs? Land, capital and labour are for him the conditions of wealth, and he requires nothing else. Science is no concern of his.... In a rational order... the mental element... will find its place, too.... Here it is certainly gratifying to know that the promotion of science also brings its material reward; to know that a single achievement of science like James Watt’s steam-engine has brought in more for the world in the first fifty years of its existence than the world has spent on the promotion of science since the beginning of time...\n",
    "\n",
    "Engels sees the economics of his day as fake science. He sees it as: an ideological doctrine whose purpose is to say that the landlord deserves his rents and the capitalist his profits, however damn high they should be, and that workers and the unemployed should shut up and sit down, for economics has proven that all is for the best in this of all possible worlds. And he looks forward to a \"rational order\"—socialism—in which not \"bourgeois\" but rather \"socialist\" economists study invention properly. Engels would have been pleased by Abramovitz's and Solow's pointing out in the late 1950s that it was the growth rate _g_ of the efficiency-of-labor _E_ that was the ball game. And, I think, German Fred here would habe been pleased by Paul Romer—although he would have said that he was late to the party...\n",
    "\n",
    "characterize the patterns by which the income and productivity levels of different countries have diverged while individual countries have either kept or have switched their relative positions—either falling behind, catching up, or forging ahead. The second attempt to make sense of the long sweep of human history since the hunter-gatherer age.\n",
    "\n"
   ]
  }
 ],
 "metadata": {
  "kernelspec": {
   "display_name": "Python 3",
   "language": "python",
   "name": "python3"
  },
  "language_info": {
   "codemirror_mode": {
    "name": "ipython",
    "version": 3
   },
   "file_extension": ".py",
   "mimetype": "text/x-python",
   "name": "python",
   "nbconvert_exporter": "python",
   "pygments_lexer": "ipython3",
   "version": "3.6.5"
  }
 },
 "nbformat": 4,
 "nbformat_minor": 2
}
